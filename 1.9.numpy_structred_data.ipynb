{
 "cells": [
  {
   "cell_type": "code",
   "execution_count": null,
   "id": "33d8b378-47dd-4bd3-bddb-ee0474d0bb5a",
   "metadata": {},
   "outputs": [],
   "source": [
    "import numpy as np"
   ]
  },
  {
   "cell_type": "code",
   "execution_count": null,
   "id": "b46f4310-204b-4077-b8e7-6c112952c8ab",
   "metadata": {},
   "outputs": [],
   "source": [
    "name = ['Alice', 'Bob', 'Cathy', 'Doug']\n",
    "age = [25, 45, 37, 19]\n",
    "weight = [55.0, 85.5, 68.0, 61.5]"
   ]
  },
  {
   "cell_type": "code",
   "execution_count": null,
   "id": "40d4d7c4-e866-4279-ab1b-f54f11c05831",
   "metadata": {},
   "outputs": [],
   "source": [
    "x = np.zeros(4, dtype=int)"
   ]
  },
  {
   "cell_type": "code",
   "execution_count": null,
   "id": "150b5cf0-70be-409c-ac8d-a11a3029708c",
   "metadata": {},
   "outputs": [],
   "source": [
    "# Use a compound data type for structured arrays\n",
    "data = np.zeros(4, dtype={'names':('name', 'age', 'weight'),\n",
    "                          'formats':('U10', 'i4', 'f8')})\n",
    "print(data.dtype)"
   ]
  },
  {
   "cell_type": "code",
   "execution_count": null,
   "id": "51360aad-f616-4c5d-9e15-5116723faccc",
   "metadata": {},
   "outputs": [],
   "source": [
    "data['name'] = name\n",
    "data['age'] = age\n",
    "data['weight'] = weight\n",
    "print(data)"
   ]
  },
  {
   "cell_type": "code",
   "execution_count": null,
   "id": "10f25dfa-91f1-477a-a094-9e60cb053a58",
   "metadata": {},
   "outputs": [],
   "source": [
    "# Get all names\n",
    "data['name']"
   ]
  },
  {
   "cell_type": "code",
   "execution_count": null,
   "id": "20eb45f8-0308-4efc-8a48-32c92ff2b2e0",
   "metadata": {},
   "outputs": [],
   "source": [
    "# Get first row of data\n",
    "data[0]"
   ]
  },
  {
   "cell_type": "code",
   "execution_count": null,
   "id": "0869d7a5-6ac6-4578-9db2-04049d0fbb84",
   "metadata": {},
   "outputs": [],
   "source": [
    "# Get the name from the last row\n",
    "data[-1]['name']"
   ]
  },
  {
   "cell_type": "code",
   "execution_count": null,
   "id": "2a4b971b-fa3e-422b-9bef-8c394e9ce8d5",
   "metadata": {},
   "outputs": [],
   "source": [
    "# Get names where age is under 30\n",
    "data[data['age'] < 30]['name']"
   ]
  },
  {
   "cell_type": "code",
   "execution_count": null,
   "id": "1aaf1e2b-0668-454d-a137-34d718aca708",
   "metadata": {},
   "outputs": [],
   "source": [
    "np.dtype({'names':('name', 'age', 'weight'),\n",
    "          'formats':('U10', 'i4', 'f8')})"
   ]
  },
  {
   "cell_type": "code",
   "execution_count": null,
   "id": "32883d94-ae7c-4a0e-ab00-8c5a7fe54dc8",
   "metadata": {},
   "outputs": [],
   "source": [
    "np.dtype({'names':('name', 'age', 'weight'),\n",
    "          'formats':((np.str_, 10), int, np.float32)})"
   ]
  },
  {
   "cell_type": "code",
   "execution_count": null,
   "id": "04ca3dc0-51d5-486b-9b78-b51ac3e54906",
   "metadata": {},
   "outputs": [],
   "source": [
    "np.dtype([('name', 'S10'), ('age', 'i4'), ('weight', 'f8')])"
   ]
  },
  {
   "cell_type": "code",
   "execution_count": null,
   "id": "275bf38c-7343-4310-afff-e3d778c64061",
   "metadata": {},
   "outputs": [],
   "source": [
    "np.dtype('S10,i4,f8')"
   ]
  },
  {
   "cell_type": "code",
   "execution_count": null,
   "id": "0e619e1e-78d8-41ce-9700-2cfd90c73129",
   "metadata": {},
   "outputs": [],
   "source": [
    "tp = np.dtype([('id', 'i8'), ('mat', 'f8', (3, 3))])\n",
    "X = np.zeros(1, dtype=tp)\n",
    "print(X[0])\n",
    "print(X['mat'][0])"
   ]
  },
  {
   "cell_type": "code",
   "execution_count": null,
   "id": "85110082-dbad-45dc-83f5-b43dbc441777",
   "metadata": {},
   "outputs": [],
   "source": [
    "data['age']"
   ]
  },
  {
   "cell_type": "code",
   "execution_count": null,
   "id": "4a416b24-b784-4b79-be97-5201e62ba451",
   "metadata": {},
   "outputs": [],
   "source": [
    "data_rec = data.view(np.recarray)\n",
    "data_rec.age"
   ]
  },
  {
   "cell_type": "code",
   "execution_count": null,
   "id": "3cd26ec6-bb34-45a0-8a1e-cb4e56e0126e",
   "metadata": {},
   "outputs": [],
   "source": [
    "%timeit data['age']\n",
    "%timeit data_rec['age']\n",
    "%timeit data_rec.age"
   ]
  }
 ],
 "metadata": {
  "kernelspec": {
   "display_name": "Python [conda env:base] *",
   "language": "python",
   "name": "conda-base-py"
  },
  "language_info": {
   "codemirror_mode": {
    "name": "ipython",
    "version": 3
   },
   "file_extension": ".py",
   "mimetype": "text/x-python",
   "name": "python",
   "nbconvert_exporter": "python",
   "pygments_lexer": "ipython3",
   "version": "3.12.7"
  }
 },
 "nbformat": 4,
 "nbformat_minor": 5
}
