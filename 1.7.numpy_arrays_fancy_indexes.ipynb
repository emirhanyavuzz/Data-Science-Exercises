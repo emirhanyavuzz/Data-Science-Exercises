{
 "cells": [
  {
   "cell_type": "markdown",
   "id": "1553123a-9031-4b8d-85a1-f754365ee33e",
   "metadata": {},
   "source": [
    "import numpy as np\n",
    "rand = np.random.RandomState(42)\n",
    "\n",
    "x = rand.randint(100, size=10)\n",
    "print(x)"
   ]
  },
  {
   "cell_type": "code",
   "execution_count": null,
   "id": "d30eb9d6-848b-4985-91d2-ac1460e43d02",
   "metadata": {},
   "outputs": [],
   "source": [
    "[x[3], x[7], x[2]]"
   ]
  },
  {
   "cell_type": "code",
   "execution_count": null,
   "id": "d87d3962-28f0-4907-9eaf-05fae05f4a77",
   "metadata": {},
   "outputs": [],
   "source": [
    "ind = [3, 7, 4]\n",
    "x[ind]"
   ]
  },
  {
   "cell_type": "code",
   "execution_count": null,
   "id": "f094f276-c8f5-4107-ae09-f0f610b099be",
   "metadata": {},
   "outputs": [],
   "source": [
    "ind = np.array([[3, 7],\n",
    "                [4, 5]])\n",
    "x[ind]"
   ]
  },
  {
   "cell_type": "code",
   "execution_count": null,
   "id": "6c8e6ad7-c452-46f4-962b-987cbfbc3fc5",
   "metadata": {},
   "outputs": [],
   "source": [
    "X = np.arange(12).reshape((3, 4))\n",
    "X"
   ]
  },
  {
   "cell_type": "code",
   "execution_count": null,
   "id": "31b14584-e344-4883-95b6-8088e97007a5",
   "metadata": {},
   "outputs": [],
   "source": [
    "row = np.array([0, 1, 2])\n",
    "col = np.array([2, 1, 3])\n",
    "X[row, col]"
   ]
  },
  {
   "cell_type": "code",
   "execution_count": null,
   "id": "565001bb-8896-4077-8557-281202e1e8c0",
   "metadata": {},
   "outputs": [],
   "source": [
    "X[row[:, np.newaxis], col]"
   ]
  },
  {
   "cell_type": "code",
   "execution_count": null,
   "id": "89441367-ced6-4b11-a3d1-f953abf6e78d",
   "metadata": {},
   "outputs": [],
   "source": [
    "row[:, np.newaxis] * col"
   ]
  },
  {
   "cell_type": "code",
   "execution_count": null,
   "id": "f4a32e7c-52e3-4ee7-84a2-e82fb3a410d8",
   "metadata": {},
   "outputs": [],
   "source": [
    "print(X)"
   ]
  },
  {
   "cell_type": "code",
   "execution_count": null,
   "id": "7215617d-89bc-4c22-97b5-87648879f52a",
   "metadata": {},
   "outputs": [],
   "source": [
    "X[2, [2, 0, 1]]"
   ]
  },
  {
   "cell_type": "code",
   "execution_count": null,
   "id": "04073019-9e2d-4da0-b009-b9db73412d8d",
   "metadata": {},
   "outputs": [],
   "source": [
    "X[1:, [2, 0, 1]]"
   ]
  },
  {
   "cell_type": "code",
   "execution_count": null,
   "id": "e261c5d7-66b4-4052-a68f-2320f8717465",
   "metadata": {},
   "outputs": [],
   "source": [
    "mask = np.array([1, 0, 1, 0], dtype=bool)\n",
    "X[row[:, np.newaxis], mask]"
   ]
  },
  {
   "cell_type": "code",
   "execution_count": null,
   "id": "1a77a755-2f82-469a-a518-adfbbe3dd7b0",
   "metadata": {},
   "outputs": [],
   "source": [
    "mean = [0, 0]\n",
    "cov = [[1, 2],\n",
    "       [2, 5]]\n",
    "X = rand.multivariate_normal(mean, cov, 100)\n",
    "X.shape"
   ]
  },
  {
   "cell_type": "code",
   "execution_count": null,
   "id": "901cb94b-47a9-49aa-a66e-0c939d541763",
   "metadata": {},
   "outputs": [],
   "source": [
    "%matplotlib inline\n",
    "import matplotlib.pyplot as plt\n",
    "import seaborn; seaborn.set()  # for plot styling\n",
    "\n",
    "plt.scatter(X[:, 0], X[:, 1]);\n",
    "plt.show()"
   ]
  },
  {
   "cell_type": "code",
   "execution_count": null,
   "id": "0ce15ce8-49a2-42e5-919c-298b55430e3f",
   "metadata": {},
   "outputs": [],
   "source": [
    "indices = np.random.choice(X.shape[0], 20, replace=False)\n",
    "indices"
   ]
  },
  {
   "cell_type": "code",
   "execution_count": null,
   "id": "cdac02a0-1c29-4535-9c56-5b2df0a07861",
   "metadata": {},
   "outputs": [],
   "source": [
    "indices = np.random.choice(X.shape[0], 20, replace=False)\n",
    "indices"
   ]
  },
  {
   "cell_type": "code",
   "execution_count": null,
   "id": "9585b86b-ce56-4200-8e20-a7ad601418d7",
   "metadata": {},
   "outputs": [],
   "source": [
    "plt.scatter(X[:, 0], X[:, 1], alpha=0.2)\n",
    "plt.scatter(selection[:, 0], selection[:, 1],\n",
    "            facecolor='blue', s=200);\n",
    "plt.show()"
   ]
  },
  {
   "cell_type": "code",
   "execution_count": null,
   "id": "8adbbdb8-2e5e-4c5e-9feb-9037513dd4c1",
   "metadata": {},
   "outputs": [],
   "source": [
    "x = np.arange(10)\n",
    "i = np.array([2, 1, 8, 4])\n",
    "x[i] = 99\n",
    "print(x)"
   ]
  },
  {
   "cell_type": "code",
   "execution_count": null,
   "id": "1b94cb3a-8d6f-443a-a9df-5cf88bf8d6c2",
   "metadata": {},
   "outputs": [],
   "source": [
    "x[i] -= 10\n",
    "print(x)"
   ]
  },
  {
   "cell_type": "code",
   "execution_count": null,
   "id": "56e8e034-e712-4f54-a5a7-6e9f87e262b5",
   "metadata": {},
   "outputs": [],
   "source": [
    "x = np.zeros(10)\n",
    "x[[0, 0]] = [4, 6]\n",
    "print(x)"
   ]
  },
  {
   "cell_type": "code",
   "execution_count": null,
   "id": "3b492a66-d5ed-4252-b076-e1b27196e884",
   "metadata": {},
   "outputs": [],
   "source": [
    "i = [2, 3, 3, 4, 4, 4]\n",
    "x[i] += 1\n",
    "x"
   ]
  },
  {
   "cell_type": "code",
   "execution_count": null,
   "id": "ef716df0-899a-4b98-8c64-25388dda1fd6",
   "metadata": {},
   "outputs": [],
   "source": [
    "x = np.zeros(10)\n",
    "np.add.at(x, i, 2)\n",
    "print(x)"
   ]
  },
  {
   "cell_type": "code",
   "execution_count": null,
   "id": "dcc1daab-765b-4a02-a0a4-cf76a53386b6",
   "metadata": {},
   "outputs": [],
   "source": [
    "np.random.seed(42)\n",
    "x = np.random.randn(100)\n",
    "\n",
    "# compute a histogram by hand\n",
    "bins = np.linspace(-4, 4, 20)\n",
    "counts = np.zeros_like(bins)\n",
    "\n",
    "# find the appropriate bin for each x\n",
    "i = np.searchsorted(bins, x)\n",
    "\n",
    "# add 1 to each of these bins\n",
    "np.add.at(counts, i, 1)"
   ]
  },
  {
   "cell_type": "code",
   "execution_count": null,
   "id": "dd9fff7c-4ee6-49e9-93b8-78c86d1ac88f",
   "metadata": {},
   "outputs": [],
   "source": [
    "# plot the results\n",
    "# plt.plot(bins, counts, linestyle='--');\n",
    "# same effect with the top one\n",
    "plt.hist(x, bins, histtype='step');\n",
    "\n",
    "plt.show()"
   ]
  },
  {
   "cell_type": "code",
   "execution_count": null,
   "id": "1c6586ec-503b-4392-95e6-7229d5e2d274",
   "metadata": {},
   "outputs": [],
   "source": [
    "# speed comparison"
   ]
  },
  {
   "cell_type": "code",
   "execution_count": null,
   "id": "5a31a9d7-0380-4478-a45c-94526a1e613b",
   "metadata": {},
   "outputs": [],
   "source": [
    "print(\"NumPy routine:\")\n",
    "%timeit counts, edges = np.histogram(x, bins)\n",
    "\n",
    "print(\"Custom routine:\")\n",
    "%timeit np.add.at(counts, np.searchsorted(bins, x), 1)"
   ]
  },
  {
   "cell_type": "code",
   "execution_count": null,
   "id": "8e3fd1ac-43bc-4db6-8a2e-bf5a87077995",
   "metadata": {},
   "outputs": [],
   "source": [
    "import numpy as np",
    "",
    "x = np.random.randn(1000000)",
    "bins = np.linspace(-5, 5, 20)",
    "counts = np.zeros_like(bins)",
    "",
    "print(\"NumPy routine:\")",
    "%timeit counts, edges = np.histogram(x, bins)",
    "",
    "print(\"Custom routine:\")",
    "i = np.searchsorted(bins, x, side='right') - 1",
    "i = np.clip(i, 0, counts.size - 1)",
    "%timeit np.add.at(counts, i, 1)"
    ]
  }
 ],
 "metadata": {
  "kernelspec": {
   "display_name": "Python [conda env:base] *",
   "language": "python",
   "name": "conda-base-py"
  },
  "language_info": {
   "codemirror_mode": {
    "name": "ipython",
    "version": 3
   },
   "file_extension": ".py",
   "mimetype": "text/x-python",
   "name": "python",
   "nbconvert_exporter": "python",
   "pygments_lexer": "ipython3",
   "version": "3.12.7"
  }
 },
 "nbformat": 4,
 "nbformat_minor": 5
}
